{
  "nbformat": 4,
  "nbformat_minor": 0,
  "metadata": {
    "celltoolbar": "Slideshow",
    "kernelspec": {
      "display_name": "Python 3",
      "language": "python",
      "name": "python3"
    },
    "language_info": {
      "codemirror_mode": {
        "name": "ipython",
        "version": 3
      },
      "file_extension": ".py",
      "mimetype": "text/x-python",
      "name": "python",
      "nbconvert_exporter": "python",
      "pygments_lexer": "ipython3",
      "version": "3.6.0"
    },
    "colab": {
      "name": "AI_007_PythonReview_ControlFlow.ipynb",
      "provenance": []
    }
  },
  "cells": [
    {
      "cell_type": "markdown",
      "metadata": {
        "id": "vAZRvFTqwc4r"
      },
      "source": [
        "Slides were originally created by Dr. Milena Tsvetkova,  London School of Economics."
      ]
    },
    {
      "cell_type": "markdown",
      "metadata": {
        "id": "IgjhNdH_wc49"
      },
      "source": [
        "## Control Flow\n",
        "\n",
        "* Control flow is the order in which statements are executed or evaluated\n",
        "* In Python, there are three main categories of control flow:\n",
        "  * **Branches** (conditional statements) – execute only if some condition is met\n",
        "  * **Loops** (iteration) – execute repeatedly \n",
        "  * Function calls – execute a set of distant statements and return back to the control flow"
      ]
    },
    {
      "cell_type": "markdown",
      "metadata": {
        "id": "tFIyuciIwc4_"
      },
      "source": [
        "## Conditional Statements\n",
        "\n",
        "![Conditional statements](figs/conditional_statements.png \"Conditional statements\")"
      ]
    },
    {
      "cell_type": "markdown",
      "metadata": {
        "id": "0ENhiqyqwc5A"
      },
      "source": [
        "## Conditional Statements: `if`\n",
        "\n",
        "```\n",
        "if *Boolean expression*:\n",
        "    *block of code*\n",
        "```"
      ]
    },
    {
      "cell_type": "code",
      "metadata": {
        "id": "kJoAXL1pwc5B",
        "colab": {
          "base_uri": "https://localhost:8080/",
          "height": 35
        },
        "outputId": "74e4ff8f-ff8e-406b-afac-66886efafd2f"
      },
      "source": [
        "x = input('How old are you? ')\n",
        "if int(x) >= 25:\n",
        "  print(\"Ah, I see, you are a mature student.\")\n",
        "else:\n",
        "  pass\n",
        "    "
      ],
      "execution_count": null,
      "outputs": [
        {
          "output_type": "stream",
          "text": [
            "How old are you? 20\n"
          ],
          "name": "stdout"
        }
      ]
    },
    {
      "cell_type": "markdown",
      "metadata": {
        "id": "7JiUSQsHwc5H"
      },
      "source": [
        "## Indentation in Python Code\n",
        "\n",
        "* Indentation is semantically meaningful in Python\n",
        "* You can use [tabs or spaces](https://www.youtube.com/watch?v=SsoOG6ZeyUI)\n",
        "* Obviously(!), tabs are preferable\n",
        "* However, it does not really matter in Colab (or Jupyter) as it converts tabs to spaces by default"
      ]
    },
    {
      "cell_type": "markdown",
      "metadata": {
        "id": "l8U7lr4Pwc5K"
      },
      "source": [
        "## Conditional Statements: `if`–`else`\n",
        "\n",
        "```\n",
        "if *Boolean expression*:\n",
        "    *block of code*\n",
        "else:\n",
        "    *block of code*\n",
        "```"
      ]
    },
    {
      "cell_type": "code",
      "metadata": {
        "id": "mFdG7C0Swc5L",
        "colab": {
          "base_uri": "https://localhost:8080/",
          "height": 35
        },
        "outputId": "26c2a232-9fc5-4f22-e023-076657fde149"
      },
      "source": [
        "x = 6\n",
        "if x%2==0:\n",
        "    print(\"Even\")\n",
        "else:\n",
        "    print(\"Odd\")    \n",
        "print('Problem solved!')\n"
      ],
      "execution_count": null,
      "outputs": [
        {
          "output_type": "stream",
          "text": [
            "Even\n"
          ],
          "name": "stdout"
        }
      ]
    },
    {
      "cell_type": "markdown",
      "metadata": {
        "id": "bDdYNTG-wc5S"
      },
      "source": [
        "## Conditional Statements: `if`–`elif`–`else`\n",
        "\n",
        "```\n",
        "if *Boolean expression*:\n",
        "    *block of code*\n",
        "elif *Boolean expression*:\n",
        "    *block of code*\n",
        "else:\n",
        "    *block of code*\n",
        "```"
      ]
    },
    {
      "cell_type": "code",
      "metadata": {
        "id": "pbo4E9TQwc5T",
        "outputId": "a2c97230-729d-49a5-d4ff-35f4b8141bb5"
      },
      "source": [
        "x = -2\n",
        "if x > 0:\n",
        "    print('Positive')\n",
        "elif x < 0:\n",
        "    print('Negative')\n",
        "else:\n",
        "    print('Zero')\n",
        "    "
      ],
      "execution_count": null,
      "outputs": [
        {
          "output_type": "stream",
          "text": [
            "Negative\n"
          ],
          "name": "stdout"
        }
      ]
    },
    {
      "cell_type": "markdown",
      "metadata": {
        "id": "2cyFArmpwc5Z"
      },
      "source": [
        "## Conditional Statements Are Evaluated Sequentially\n",
        "\n",
        "Hence, it makes sense to start with the most likely one. This could make your code faster! "
      ]
    },
    {
      "cell_type": "code",
      "metadata": {
        "id": "8i9co9BWwc5b",
        "colab": {
          "base_uri": "https://localhost:8080/",
          "height": 54
        },
        "outputId": "81359ae8-f234-47bf-af65-92e45ca985b7"
      },
      "source": [
        "correct = 25\n",
        "\n",
        "guess = int(input(\"Guess which number from 1 to 100 I'm thinking of? \"))\n",
        "\n",
        "if ((guess > correct + 10) or (guess < correct - 10)):\n",
        "    print(\"You are quite far. Try again.\")\n",
        "elif guess != correct:\n",
        "    print(\"You are very close. Try again.\")\n",
        "else:\n",
        "    print(\"That's right!\")\n",
        "    "
      ],
      "execution_count": null,
      "outputs": [
        {
          "output_type": "stream",
          "text": [
            "Guess which number from 1 to 100 I'm thinking of? 25\n",
            "That's right!\n"
          ],
          "name": "stdout"
        }
      ]
    },
    {
      "cell_type": "markdown",
      "metadata": {
        "id": "mYdD55Vgwc5f"
      },
      "source": [
        "## Nested Conditional Statements\n",
        "\n",
        "Nesting conditional statements is often a question of style. As always, clarity and speed should be your major considerations!"
      ]
    },
    {
      "cell_type": "code",
      "metadata": {
        "id": "NRMHVVc_wc5g",
        "colab": {
          "base_uri": "https://localhost:8080/",
          "height": 35
        },
        "outputId": "c11ca933-59cf-4838-98f9-b6f914a2c0b3"
      },
      "source": [
        "x = []\n",
        "\n",
        "if type(x)==int or type(x)==float:\n",
        "    if x > 0:\n",
        "        print('This is a non-negative number')\n",
        "    elif x<0:\n",
        "        print('This is a negative number')\n",
        "    else:\n",
        "        print('number is zero')\n",
        "elif type(x)==str:\n",
        "    print('This is a string.')\n",
        "else:\n",
        "    print(\"I don't now what this is.\")\n",
        "    "
      ],
      "execution_count": null,
      "outputs": [
        {
          "output_type": "stream",
          "text": [
            "I don't now what this is.\n"
          ],
          "name": "stdout"
        }
      ]
    },
    {
      "cell_type": "markdown",
      "metadata": {
        "id": "353YbkJVwc5k"
      },
      "source": [
        "## Iteration\n",
        "\n",
        "![Iteration](figs/iteration.png \"Iteration\")"
      ]
    },
    {
      "cell_type": "markdown",
      "metadata": {
        "id": "MkByqWaZwc5l"
      },
      "source": [
        "## Iteration: `while` vs. `for`"
      ]
    },
    {
      "cell_type": "markdown",
      "metadata": {
        "id": "NrTl4BeKwc5n"
      },
      "source": [
        "```\n",
        "while *Boolean expression*:\n",
        "    *block of code*\n",
        "```"
      ]
    },
    {
      "cell_type": "markdown",
      "metadata": {
        "id": "1x5vbX3kwc5o"
      },
      "source": [
        "```\n",
        "for *element* in *sequence*:\n",
        "    *block of code*\n",
        "```"
      ]
    },
    {
      "cell_type": "markdown",
      "metadata": {
        "id": "bH3bmZ6Awc5o"
      },
      "source": [
        "## Iteration: `while` with decrementing function\n",
        "\n",
        "The decrementing function is a function that maps variables to an integer that is initially non-negative but that decreases with every pass through the loop; the loop ends when the integer is 0."
      ]
    },
    {
      "cell_type": "code",
      "metadata": {
        "id": "_4cSoO6Fwc5p",
        "colab": {
          "base_uri": "https://localhost:8080/",
          "height": 109
        },
        "outputId": "96390559-a3b1-4746-ae94-f619583917a6"
      },
      "source": [
        "# decrementing function: 5 - x\n",
        "x = 1\n",
        "while x <= 5:\n",
        "  x=x+1 \n",
        "  print(x)\n",
        "\n",
        "    \n",
        "    "
      ],
      "execution_count": null,
      "outputs": [
        {
          "output_type": "stream",
          "text": [
            "2\n",
            "3\n",
            "4\n",
            "5\n",
            "6\n"
          ],
          "name": "stdout"
        }
      ]
    },
    {
      "cell_type": "markdown",
      "metadata": {
        "id": "MPufv03jwc5u"
      },
      "source": [
        "## Iteration: `while` with conditional statements\n"
      ]
    },
    {
      "cell_type": "code",
      "metadata": {
        "id": "bGFe1bdrwc5v",
        "colab": {
          "base_uri": "https://localhost:8080/",
          "height": 127
        },
        "outputId": "5817bf61-eb6d-40cc-9ad6-fc579d2bb29b"
      },
      "source": [
        "correct = 25\n",
        "repeat = True\n",
        "\n",
        "while repeat:\n",
        "    guess = int(input(\"Guess which number from 1 to 100 I'm thinking of? \"))\n",
        "    \n",
        "    if guess > correct + 10 or guess < correct - 10:\n",
        "        print(\"You are quite far. Try again.\")\n",
        "    elif guess != correct:\n",
        "        print(\"You are very close. Try again.\")\n",
        "    else:\n",
        "        print(\"That's right!\")\n",
        "        repeat=False\n",
        "        "
      ],
      "execution_count": null,
      "outputs": [
        {
          "output_type": "stream",
          "text": [
            "Guess which number from 1 to 100 I'm thinking of? 99\n",
            "You are quite far. Try again.\n",
            "Guess which number from 1 to 100 I'm thinking of? 30\n",
            "You are very close. Try again.\n",
            "Guess which number from 1 to 100 I'm thinking of? 25\n",
            "That's right!\n"
          ],
          "name": "stdout"
        }
      ]
    },
    {
      "cell_type": "markdown",
      "metadata": {
        "id": "IwEATiDpwc50"
      },
      "source": [
        "## Iteration: `for`\n",
        "\n",
        "```\n",
        "for *element* in *sequence*:\n",
        "    *block of code*\n",
        "```\n"
      ]
    },
    {
      "cell_type": "code",
      "metadata": {
        "id": "PD6G0KMjwc51",
        "colab": {
          "base_uri": "https://localhost:8080/",
          "height": 35
        },
        "outputId": "f7c7315d-a959-4f7a-b954-6fcccd314983"
      },
      "source": [
        "for i in [1, 2, 3, 4, 5]:\n",
        "    print(i, end=' ')\n",
        "    "
      ],
      "execution_count": null,
      "outputs": [
        {
          "output_type": "stream",
          "text": [
            "1 2 3 4 5 "
          ],
          "name": "stdout"
        }
      ]
    },
    {
      "cell_type": "markdown",
      "metadata": {
        "id": "Lrqto9h8wc5-"
      },
      "source": [
        "## `range()`\n",
        "\n",
        "* In-built function that produces an immutable ordered non-scalar object of type `range`\n",
        "* Initiate as `range([start], stop, [step])`. If ommitted, `start = 0` and `step = 1`. \n",
        "* Function produces progression of integers `[start, start + step, start + 2*step, ..., start + i*step]` \n",
        "  * If step > 0, `start + i*step < stop` \n",
        "  * If step < 0, `start + i*step > stop` "
      ]
    },
    {
      "cell_type": "code",
      "metadata": {
        "id": "5UAgkH7rwc5_",
        "colab": {
          "base_uri": "https://localhost:8080/",
          "height": 35
        },
        "outputId": "af42f0f5-1cb9-47fb-e2ab-5858df6888ef"
      },
      "source": [
        "a=range(6)\n",
        "print(list(a))\n"
      ],
      "execution_count": null,
      "outputs": [
        {
          "output_type": "stream",
          "text": [
            "[0, 1, 2, 3, 4, 5]\n"
          ],
          "name": "stdout"
        }
      ]
    },
    {
      "cell_type": "markdown",
      "metadata": {
        "id": "1sVHmYZgwc6C"
      },
      "source": [
        "## `range()` is essential for `for`-loops"
      ]
    },
    {
      "cell_type": "code",
      "metadata": {
        "id": "vCsW4L5XMBh7",
        "colab": {
          "base_uri": "https://localhost:8080/",
          "height": 35
        },
        "outputId": "1edcc022-3d2e-4518-9265-96d82aa95a6e"
      },
      "source": [
        "for iii in range(3,10,2):\n",
        "    print(iii, end=' ')"
      ],
      "execution_count": null,
      "outputs": [
        {
          "output_type": "stream",
          "text": [
            "3 5 7 9 "
          ],
          "name": "stdout"
        }
      ]
    },
    {
      "cell_type": "code",
      "metadata": {
        "id": "k9ppJQsTwc6G",
        "outputId": "e23d938c-d9f8-4da2-9034-50920644eb1b"
      },
      "source": [
        "for i in range(6):\n",
        "    print(i, end=' ')\n",
        "print() \n",
        "\n",
        "for i in range(1,6):\n",
        "    print(i, end=' ')\n",
        "print()\n",
        "    \n",
        "for i in range(1,6,2):\n",
        "    print(i, end=' ')\n",
        "    "
      ],
      "execution_count": null,
      "outputs": [
        {
          "output_type": "stream",
          "text": [
            "0 1 2 3 4 5 \n",
            "1 2 3 4 5 \n",
            "1 3 5 "
          ],
          "name": "stdout"
        }
      ]
    },
    {
      "cell_type": "markdown",
      "metadata": {
        "id": "y2bWrxwCwc6L"
      },
      "source": [
        "## Indexing Lists with `range(len(L))`"
      ]
    },
    {
      "cell_type": "code",
      "metadata": {
        "id": "nBFJ_pxhwc6M",
        "colab": {
          "base_uri": "https://localhost:8080/",
          "height": 90
        },
        "outputId": "228f1c5a-5f28-4a15-b6bb-56b91a0d3b9d"
      },
      "source": [
        "mylist = ['a', 'b', 'c', 'd']\n",
        "#for item in mylist:\n",
        "# print (item.capitalize(), end= ' ')\n",
        "for i in range(len(mylist)):\n",
        "     print('index', i, ':', mylist[i])\n",
        "        "
      ],
      "execution_count": null,
      "outputs": [
        {
          "output_type": "stream",
          "text": [
            "index 0 : a\n",
            "index 1 : b\n",
            "index 2 : c\n",
            "index 3 : d\n"
          ],
          "name": "stdout"
        }
      ]
    },
    {
      "cell_type": "markdown",
      "metadata": {
        "id": "h0L8NF3zwc6Q"
      },
      "source": [
        "## Iteration: `break` and `continue`\n",
        "\n",
        "* Use `break` to exit a loop \n",
        "* Use `continue` to go directly to next iteration"
      ]
    },
    {
      "cell_type": "code",
      "metadata": {
        "id": "pp4vnnwWwc6R",
        "colab": {
          "base_uri": "https://localhost:8080/",
          "height": 90
        },
        "outputId": "27ef670c-5a36-422a-faf0-da39fc0dc7a2"
      },
      "source": [
        "for i in range(5):\n",
        "    if i==2:\n",
        "        break  # Go to the next iteration and skip the rest of the code\n",
        "    else:\n",
        "        print(i)\n",
        "    print (\"i=\",i)"
      ],
      "execution_count": null,
      "outputs": [
        {
          "output_type": "stream",
          "text": [
            "0\n",
            "i= 0\n",
            "1\n",
            "i= 1\n"
          ],
          "name": "stdout"
        }
      ]
    }
  ]
}