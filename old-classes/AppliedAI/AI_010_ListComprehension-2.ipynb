{
  "nbformat": 4,
  "nbformat_minor": 0,
  "metadata": {
    "celltoolbar": "Slideshow",
    "kernelspec": {
      "display_name": "Python 3",
      "language": "python",
      "name": "python3"
    },
    "language_info": {
      "codemirror_mode": {
        "name": "ipython",
        "version": 3
      },
      "file_extension": ".py",
      "mimetype": "text/x-python",
      "name": "python",
      "nbconvert_exporter": "python",
      "pygments_lexer": "ipython3",
      "version": "3.6.0"
    },
    "colab": {
      "name": "AI_010_ListComprehension.ipynb",
      "provenance": []
    }
  },
  "cells": [
    {
      "cell_type": "markdown",
      "metadata": {
        "id": "yUpPiRCxwc6V"
      },
      "source": [
        "## List Comprehensions\n",
        "\n",
        "```\n",
        "L = [*object, expression, or function* for *element* in *sequence*]\n",
        "L = [*object, expression, or function* for *element* in *sequence* if *Boolean expression*]\n",
        "L = [*object, expression, or function* for *element* in *sequence* for *element2* in *sequence2*]\n",
        "```\n",
        "\n",
        "* Provide a concise way to create lists\n",
        "* Faster because implemented in C\n",
        "* Nested list comprehension can be somewhat confusing\n",
        "\n",
        "**Slides were originally created by Dr. Milena Tsvetkova,  London School of Economics.*\n"
      ]
    },
    {
      "cell_type": "markdown",
      "metadata": {
        "id": "vPYoaFkvwc6X"
      },
      "source": [
        "## List Comprehensions"
      ]
    },
    {
      "cell_type": "code",
      "metadata": {
        "colab": {
          "base_uri": "https://localhost:8080/"
        },
        "id": "g7tS_AXfF9aZ",
        "outputId": "2610b08b-83c6-48c1-ed66-48602776b297"
      },
      "source": [
        "#create a list:\r\n",
        "#[1,2,3,4,5,6]\r\n",
        "L1=[i for i in range(1,15)]\r\n",
        "print (L1)\r\n"
      ],
      "execution_count": null,
      "outputs": [
        {
          "output_type": "stream",
          "text": [
            "[1, 2, 3, 4, 5, 6, 7, 8, 9, 10, 11, 12, 13, 14]\n"
          ],
          "name": "stdout"
        }
      ]
    },
    {
      "cell_type": "code",
      "metadata": {
        "id": "eZ7Hg93pwc6Y",
        "colab": {
          "base_uri": "https://localhost:8080/"
        },
        "outputId": "f2139699-f354-4231-94b7-71c8777906b1"
      },
      "source": [
        "ans = []\n",
        "for x in range(1,11):\n",
        "    ans.append(x**2)\n",
        "print(ans)\n",
        "\n",
        "print([x**2 for x in range(1,11)])"
      ],
      "execution_count": null,
      "outputs": [
        {
          "output_type": "stream",
          "text": [
            "[1, 4, 9, 16, 25, 36, 49, 64, 81, 100]\n",
            "[1, 4, 9, 16, 25, 36, 49, 64, 81, 100]\n"
          ],
          "name": "stdout"
        }
      ]
    },
    {
      "cell_type": "code",
      "metadata": {
        "colab": {
          "base_uri": "https://localhost:8080/"
        },
        "id": "leEhjtPgGPbf",
        "outputId": "9170066e-7ad2-44f9-ab1b-d24bc594c961"
      },
      "source": [
        "#remove the space from the words in the following list\r\n",
        "WordList=[' john ', ' Mary', 'Jack ']\r\n",
        "WordList2=[item.strip() for item in WordList]\r\n",
        "print (WordList2)"
      ],
      "execution_count": null,
      "outputs": [
        {
          "output_type": "stream",
          "text": [
            "['john', 'Mary', 'Jack']\n"
          ],
          "name": "stdout"
        }
      ]
    },
    {
      "cell_type": "code",
      "metadata": {
        "colab": {
          "base_uri": "https://localhost:8080/"
        },
        "id": "HSKtWaX8GjNH",
        "outputId": "66d44813-f39d-4ed9-ec30-4f298263e323"
      },
      "source": [
        "#create a list of positive even integers\r\n",
        "[item for item in range(1,20) if item%2==0]"
      ],
      "execution_count": null,
      "outputs": [
        {
          "output_type": "execute_result",
          "data": {
            "text/plain": [
              "[2, 4, 6, 8, 10, 12, 14, 16, 18]"
            ]
          },
          "metadata": {
            "tags": []
          },
          "execution_count": 34
        }
      ]
    },
    {
      "cell_type": "code",
      "metadata": {
        "colab": {
          "base_uri": "https://localhost:8080/"
        },
        "id": "DReMCzh8HhHv",
        "outputId": "c41e31ca-d591-46cd-abef-fa3b253232f4"
      },
      "source": [
        "#two loops\r\n",
        "[i+j for i in range(1,3) for j in range(4,7)]"
      ],
      "execution_count": null,
      "outputs": [
        {
          "output_type": "execute_result",
          "data": {
            "text/plain": [
              "[5, 6, 7, 6, 7, 8]"
            ]
          },
          "metadata": {
            "tags": []
          },
          "execution_count": 38
        }
      ]
    },
    {
      "cell_type": "code",
      "metadata": {
        "id": "q4CfEsIawc6k",
        "colab": {
          "base_uri": "https://localhost:8080/"
        },
        "outputId": "cfcc4353-cb5c-460a-f153-57689ced04a6"
      },
      "source": [
        "print([x+y for x in ['a', 'b', 'c'] for y in ['1','2', '3']])\n"
      ],
      "execution_count": null,
      "outputs": [
        {
          "output_type": "stream",
          "text": [
            "['a1', 'a2', 'a3', 'b1', 'b2', 'b3', 'c1', 'c2', 'c3']\n"
          ],
          "name": "stdout"
        }
      ]
    },
    {
      "cell_type": "code",
      "metadata": {
        "colab": {
          "base_uri": "https://localhost:8080/"
        },
        "id": "eKbl_ZzdA6f4",
        "outputId": "85eb76ad-1ec0-4e36-f4d4-e9b50ba1e679"
      },
      "source": [
        "def square_half(x):\r\n",
        "    '''Assumes x is numeric. Estimates the square of x/2.'''\r\n",
        "    return (x/2)**2\r\n",
        "\r\n",
        "lst = [square_half(i) for i in range(10)]\r\n",
        "print(lst)"
      ],
      "execution_count": null,
      "outputs": [
        {
          "output_type": "stream",
          "text": [
            "[0.0, 0.25, 1.0, 2.25, 4.0, 6.25, 9.0, 12.25, 16.0, 20.25]\n"
          ],
          "name": "stdout"
        }
      ]
    },
    {
      "cell_type": "code",
      "metadata": {
        "colab": {
          "base_uri": "https://localhost:8080/"
        },
        "id": "E7MHXUoRIJLX",
        "outputId": "0ed52c43-6810-4859-a9b4-6bc053edaeff"
      },
      "source": [
        "#combine lists\r\n",
        "L1=[1,2,3]\r\n",
        "L2=[4,5,6]\r\n",
        "L3=L1+L2\r\n",
        "#[[i,j] for i in L1 for j in L2]\r\n",
        "[item[0]/item[1] for item in zip(L1,L2)]\r\n",
        " \r\n"
      ],
      "execution_count": null,
      "outputs": [
        {
          "output_type": "execute_result",
          "data": {
            "text/plain": [
              "[0.25, 0.4, 0.5]"
            ]
          },
          "metadata": {
            "tags": []
          },
          "execution_count": 47
        }
      ]
    },
    {
      "cell_type": "markdown",
      "metadata": {
        "id": "_STSfsKKwc6n"
      },
      "source": [
        "## Dictionary and Set Comprehensions"
      ]
    },
    {
      "cell_type": "code",
      "metadata": {
        "id": "vWJ30aNWwc6p",
        "colab": {
          "base_uri": "https://localhost:8080/"
        },
        "outputId": "d98feba6-8545-44cd-8910-4a449bcab262"
      },
      "source": [
        "print({x: x**2 for x in range(1,11)})\n",
        "print({x.lower(): y for x, y in [('A',1), ('b',2), ('C',3)]})\n",
        "print({item[0].lower(): item[1] for item in [('A',1), ('b',2), ('C',3)]})\n",
        "\n",
        "print({x.lower() for x in 'SomeRandomSTRING'})\n"
      ],
      "execution_count": null,
      "outputs": [
        {
          "output_type": "stream",
          "text": [
            "{1: 1, 2: 4, 3: 9, 4: 16, 5: 25, 6: 36, 7: 49, 8: 64, 9: 81, 10: 100}\n",
            "{'a': 1, 'b': 2, 'c': 3}\n",
            "{'a': 1, 'b': 2, 'c': 3}\n",
            "{'d', 'r', 's', 'e', 'a', 'i', 'o', 'n', 'g', 'm', 't'}\n"
          ],
          "name": "stdout"
        }
      ]
    }
  ]
}